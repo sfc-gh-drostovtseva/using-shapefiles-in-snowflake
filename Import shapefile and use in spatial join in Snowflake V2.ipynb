{
 "cells": [
  {
   "cell_type": "markdown",
   "id": "2f1c81f6",
   "metadata": {},
   "source": [
    "# How to Upload an Esri Shapefile into Snowflake\n",
    "This project uses geopandas and the Snowflake Python connector to transform and upload a polygon shapefile in order to spatially join data in Snowflake. It uses a polygon shapefile of California Legislative districts and a Snowflake table of cellphone towers, which are spatially joined to understand any potential gaps in access to telecommunication services across the state."
   ]
  },
  {
   "cell_type": "markdown",
   "id": "147a3a72",
   "metadata": {},
   "source": [
    "## Prepare Shapefile in Python\n",
    "### Bring in the necessary packages"
   ]
  },
  {
   "cell_type": "code",
   "execution_count": 41,
   "id": "fda7db09",
   "metadata": {
    "scrolled": true
   },
   "outputs": [],
   "source": [
    "import geopandas\n",
    "import pandas as pd\n",
    "import json\n",
    "\n",
    "import snowflake.connector\n",
    "from snowflake.connector.pandas_tools import write_pandas"
   ]
  },
  {
   "cell_type": "markdown",
   "id": "aec759af",
   "metadata": {},
   "source": [
    "### Navigate to the location of the shapefile on disk"
   ]
  },
  {
   "cell_type": "code",
   "execution_count": 42,
   "id": "ff664ce2",
   "metadata": {
    "scrolled": true
   },
   "outputs": [
    {
     "name": "stdout",
     "output_type": "stream",
     "text": [
      "/Users/drostovtseva/Documents/DemoData/Geospatial\n"
     ]
    }
   ],
   "source": [
    "cd /Users/drostovtseva/Documents/DemoData/Geospatial"
   ]
  },
  {
   "cell_type": "markdown",
   "id": "cbcb6a19",
   "metadata": {},
   "source": [
    "### Open the shapefile in geopandas"
   ]
  },
  {
   "cell_type": "code",
   "execution_count": 43,
   "id": "f8bc83bf",
   "metadata": {},
   "outputs": [],
   "source": [
    "shapefile=geopandas.read_file('CA_Legislative_Districts.zip')"
   ]
  },
  {
   "cell_type": "code",
   "execution_count": 44,
   "id": "0a522393",
   "metadata": {
    "scrolled": false
   },
   "outputs": [
    {
     "data": {
      "text/html": [
       "<div>\n",
       "<style scoped>\n",
       "    .dataframe tbody tr th:only-of-type {\n",
       "        vertical-align: middle;\n",
       "    }\n",
       "\n",
       "    .dataframe tbody tr th {\n",
       "        vertical-align: top;\n",
       "    }\n",
       "\n",
       "    .dataframe thead th {\n",
       "        text-align: right;\n",
       "    }\n",
       "</style>\n",
       "<table border=\"1\" class=\"dataframe\">\n",
       "  <thead>\n",
       "    <tr style=\"text-align: right;\">\n",
       "      <th></th>\n",
       "      <th>FID</th>\n",
       "      <th>ID</th>\n",
       "      <th>AREA</th>\n",
       "      <th>DISTRICT</th>\n",
       "      <th>MEMBERS</th>\n",
       "      <th>LOCKED</th>\n",
       "      <th>NAME</th>\n",
       "      <th>POPULATION</th>\n",
       "      <th>CVAP_19</th>\n",
       "      <th>HSP_CVAP_1</th>\n",
       "      <th>...</th>\n",
       "      <th>F_CVAP_19</th>\n",
       "      <th>F_HSP_CVAP</th>\n",
       "      <th>F_DOJ_NH_B</th>\n",
       "      <th>F_DOJ_NH_A</th>\n",
       "      <th>F_NH_WHT_C</th>\n",
       "      <th>DISTRICT_N</th>\n",
       "      <th>DISTRICT_L</th>\n",
       "      <th>Shape__Are</th>\n",
       "      <th>Shape__Len</th>\n",
       "      <th>geometry</th>\n",
       "    </tr>\n",
       "  </thead>\n",
       "  <tbody>\n",
       "    <tr>\n",
       "      <th>0</th>\n",
       "      <td>1</td>\n",
       "      <td>1</td>\n",
       "      <td>27242.802700</td>\n",
       "      <td>1</td>\n",
       "      <td>1</td>\n",
       "      <td>None</td>\n",
       "      <td>None</td>\n",
       "      <td>506402</td>\n",
       "      <td>385673</td>\n",
       "      <td>31559</td>\n",
       "      <td>...</td>\n",
       "      <td>0.761595</td>\n",
       "      <td>0.081828</td>\n",
       "      <td>0.011118</td>\n",
       "      <td>0.021122</td>\n",
       "      <td>0.846782</td>\n",
       "      <td>1</td>\n",
       "      <td>1|2.5%</td>\n",
       "      <td>1.229428e+11</td>\n",
       "      <td>2.726995e+06</td>\n",
       "      <td>POLYGON ((-13375251.157 5160175.897, -13375169...</td>\n",
       "    </tr>\n",
       "    <tr>\n",
       "      <th>1</th>\n",
       "      <td>2</td>\n",
       "      <td>2</td>\n",
       "      <td>116.271873</td>\n",
       "      <td>10</td>\n",
       "      <td>1</td>\n",
       "      <td>None</td>\n",
       "      <td>None</td>\n",
       "      <td>518416</td>\n",
       "      <td>331234</td>\n",
       "      <td>67026</td>\n",
       "      <td>...</td>\n",
       "      <td>0.638935</td>\n",
       "      <td>0.202352</td>\n",
       "      <td>0.160285</td>\n",
       "      <td>0.268605</td>\n",
       "      <td>0.323167</td>\n",
       "      <td>10</td>\n",
       "      <td>10|4.93%</td>\n",
       "      <td>4.922678e+08</td>\n",
       "      <td>1.431753e+05</td>\n",
       "      <td>POLYGON ((-13513156.271 4655945.846, -13513165...</td>\n",
       "    </tr>\n",
       "    <tr>\n",
       "      <th>2</th>\n",
       "      <td>3</td>\n",
       "      <td>3</td>\n",
       "      <td>1064.780880</td>\n",
       "      <td>11</td>\n",
       "      <td>1</td>\n",
       "      <td>None</td>\n",
       "      <td>None</td>\n",
       "      <td>514921</td>\n",
       "      <td>348085</td>\n",
       "      <td>67399</td>\n",
       "      <td>...</td>\n",
       "      <td>0.675997</td>\n",
       "      <td>0.193628</td>\n",
       "      <td>0.146349</td>\n",
       "      <td>0.151989</td>\n",
       "      <td>0.474855</td>\n",
       "      <td>11</td>\n",
       "      <td>11|4.23%</td>\n",
       "      <td>4.479272e+09</td>\n",
       "      <td>4.545407e+05</td>\n",
       "      <td>POLYGON ((-13543999.336 4562283.039, -13544052...</td>\n",
       "    </tr>\n",
       "    <tr>\n",
       "      <th>3</th>\n",
       "      <td>4</td>\n",
       "      <td>4</td>\n",
       "      <td>1236.346310</td>\n",
       "      <td>12</td>\n",
       "      <td>1</td>\n",
       "      <td>None</td>\n",
       "      <td>None</td>\n",
       "      <td>482778</td>\n",
       "      <td>340887</td>\n",
       "      <td>41272</td>\n",
       "      <td>...</td>\n",
       "      <td>0.706095</td>\n",
       "      <td>0.121072</td>\n",
       "      <td>0.022506</td>\n",
       "      <td>0.061586</td>\n",
       "      <td>0.779537</td>\n",
       "      <td>12</td>\n",
       "      <td>12|-2.28%</td>\n",
       "      <td>5.187115e+09</td>\n",
       "      <td>3.982014e+05</td>\n",
       "      <td>POLYGON ((-13649138.606 4553356.640, -13650675...</td>\n",
       "    </tr>\n",
       "    <tr>\n",
       "      <th>4</th>\n",
       "      <td>5</td>\n",
       "      <td>5</td>\n",
       "      <td>489.503387</td>\n",
       "      <td>13</td>\n",
       "      <td>1</td>\n",
       "      <td>None</td>\n",
       "      <td>None</td>\n",
       "      <td>489925</td>\n",
       "      <td>282482</td>\n",
       "      <td>93901</td>\n",
       "      <td>...</td>\n",
       "      <td>0.576582</td>\n",
       "      <td>0.332414</td>\n",
       "      <td>0.117161</td>\n",
       "      <td>0.201100</td>\n",
       "      <td>0.320066</td>\n",
       "      <td>13</td>\n",
       "      <td>13|-0.83%</td>\n",
       "      <td>2.036156e+09</td>\n",
       "      <td>3.559822e+05</td>\n",
       "      <td>POLYGON ((-13531626.502 4516055.256, -13531626...</td>\n",
       "    </tr>\n",
       "  </tbody>\n",
       "</table>\n",
       "<p>5 rows × 26 columns</p>\n",
       "</div>"
      ],
      "text/plain": [
       "   FID  ID          AREA DISTRICT  MEMBERS LOCKED  NAME  POPULATION  CVAP_19  \\\n",
       "0    1   1  27242.802700        1        1   None  None      506402   385673   \n",
       "1    2   2    116.271873       10        1   None  None      518416   331234   \n",
       "2    3   3   1064.780880       11        1   None  None      514921   348085   \n",
       "3    4   4   1236.346310       12        1   None  None      482778   340887   \n",
       "4    5   5    489.503387       13        1   None  None      489925   282482   \n",
       "\n",
       "   HSP_CVAP_1  ...  F_CVAP_19  F_HSP_CVAP  F_DOJ_NH_B  F_DOJ_NH_A  F_NH_WHT_C  \\\n",
       "0       31559  ...   0.761595    0.081828    0.011118    0.021122    0.846782   \n",
       "1       67026  ...   0.638935    0.202352    0.160285    0.268605    0.323167   \n",
       "2       67399  ...   0.675997    0.193628    0.146349    0.151989    0.474855   \n",
       "3       41272  ...   0.706095    0.121072    0.022506    0.061586    0.779537   \n",
       "4       93901  ...   0.576582    0.332414    0.117161    0.201100    0.320066   \n",
       "\n",
       "   DISTRICT_N  DISTRICT_L    Shape__Are    Shape__Len  \\\n",
       "0           1      1|2.5%  1.229428e+11  2.726995e+06   \n",
       "1          10    10|4.93%  4.922678e+08  1.431753e+05   \n",
       "2          11    11|4.23%  4.479272e+09  4.545407e+05   \n",
       "3          12   12|-2.28%  5.187115e+09  3.982014e+05   \n",
       "4          13   13|-0.83%  2.036156e+09  3.559822e+05   \n",
       "\n",
       "                                            geometry  \n",
       "0  POLYGON ((-13375251.157 5160175.897, -13375169...  \n",
       "1  POLYGON ((-13513156.271 4655945.846, -13513165...  \n",
       "2  POLYGON ((-13543999.336 4562283.039, -13544052...  \n",
       "3  POLYGON ((-13649138.606 4553356.640, -13650675...  \n",
       "4  POLYGON ((-13531626.502 4516055.256, -13531626...  \n",
       "\n",
       "[5 rows x 26 columns]"
      ]
     },
     "execution_count": 44,
     "metadata": {},
     "output_type": "execute_result"
    }
   ],
   "source": [
    "shapefile.head()"
   ]
  },
  {
   "cell_type": "markdown",
   "id": "4e320b11",
   "metadata": {},
   "source": [
    "### Drop unneeded columns\n",
    "We only retain a few columns that we need for analysis. The geometry column contains the geographic coordinates of the polygons"
   ]
  },
  {
   "cell_type": "code",
   "execution_count": 45,
   "id": "ca2624ca",
   "metadata": {
    "scrolled": false
   },
   "outputs": [
    {
     "data": {
      "text/html": [
       "<div>\n",
       "<style scoped>\n",
       "    .dataframe tbody tr th:only-of-type {\n",
       "        vertical-align: middle;\n",
       "    }\n",
       "\n",
       "    .dataframe tbody tr th {\n",
       "        vertical-align: top;\n",
       "    }\n",
       "\n",
       "    .dataframe thead th {\n",
       "        text-align: right;\n",
       "    }\n",
       "</style>\n",
       "<table border=\"1\" class=\"dataframe\">\n",
       "  <thead>\n",
       "    <tr style=\"text-align: right;\">\n",
       "      <th></th>\n",
       "      <th>ID</th>\n",
       "      <th>AREA</th>\n",
       "      <th>DISTRICT</th>\n",
       "      <th>POPULATION</th>\n",
       "      <th>geometry</th>\n",
       "    </tr>\n",
       "  </thead>\n",
       "  <tbody>\n",
       "    <tr>\n",
       "      <th>0</th>\n",
       "      <td>1</td>\n",
       "      <td>27242.802700</td>\n",
       "      <td>1</td>\n",
       "      <td>506402</td>\n",
       "      <td>POLYGON ((-13375251.157 5160175.897, -13375169...</td>\n",
       "    </tr>\n",
       "    <tr>\n",
       "      <th>1</th>\n",
       "      <td>2</td>\n",
       "      <td>116.271873</td>\n",
       "      <td>10</td>\n",
       "      <td>518416</td>\n",
       "      <td>POLYGON ((-13513156.271 4655945.846, -13513165...</td>\n",
       "    </tr>\n",
       "    <tr>\n",
       "      <th>2</th>\n",
       "      <td>3</td>\n",
       "      <td>1064.780880</td>\n",
       "      <td>11</td>\n",
       "      <td>514921</td>\n",
       "      <td>POLYGON ((-13543999.336 4562283.039, -13544052...</td>\n",
       "    </tr>\n",
       "    <tr>\n",
       "      <th>3</th>\n",
       "      <td>4</td>\n",
       "      <td>1236.346310</td>\n",
       "      <td>12</td>\n",
       "      <td>482778</td>\n",
       "      <td>POLYGON ((-13649138.606 4553356.640, -13650675...</td>\n",
       "    </tr>\n",
       "    <tr>\n",
       "      <th>4</th>\n",
       "      <td>5</td>\n",
       "      <td>489.503387</td>\n",
       "      <td>13</td>\n",
       "      <td>489925</td>\n",
       "      <td>POLYGON ((-13531626.502 4516055.256, -13531626...</td>\n",
       "    </tr>\n",
       "  </tbody>\n",
       "</table>\n",
       "</div>"
      ],
      "text/plain": [
       "   ID          AREA DISTRICT  POPULATION  \\\n",
       "0   1  27242.802700        1      506402   \n",
       "1   2    116.271873       10      518416   \n",
       "2   3   1064.780880       11      514921   \n",
       "3   4   1236.346310       12      482778   \n",
       "4   5    489.503387       13      489925   \n",
       "\n",
       "                                            geometry  \n",
       "0  POLYGON ((-13375251.157 5160175.897, -13375169...  \n",
       "1  POLYGON ((-13513156.271 4655945.846, -13513165...  \n",
       "2  POLYGON ((-13543999.336 4562283.039, -13544052...  \n",
       "3  POLYGON ((-13649138.606 4553356.640, -13650675...  \n",
       "4  POLYGON ((-13531626.502 4516055.256, -13531626...  "
      ]
     },
     "execution_count": 45,
     "metadata": {},
     "output_type": "execute_result"
    }
   ],
   "source": [
    "shapefile=shapefile[['ID','AREA','DISTRICT','POPULATION','geometry']]\n",
    "shapefile.head()"
   ]
  },
  {
   "cell_type": "markdown",
   "id": "3bd30091",
   "metadata": {},
   "source": [
    "### Change Projection\n",
    "Snowflake geography data type expects the coordinates to be in EPSG:4326, which corresponds to the WGS84 spherical (unprojected) coordinate system. For a spatial join to work correctly, both sets of coordinates must use the same projection. Snowflake geometry data type enables you to use any projection, but changing projecttions in Snowflake is not yet supported. Since the cell towers table uses the geography data type to store the towers' coordinates, we use geopandas to change the projection of the shapefile data to match that of the cell towers."
   ]
  },
  {
   "cell_type": "markdown",
   "id": "a87f863c",
   "metadata": {},
   "source": [
    "#### Check the projection\n",
    "The shapefile is projected with EPSG 3857"
   ]
  },
  {
   "cell_type": "code",
   "execution_count": 46,
   "id": "704b8fb8",
   "metadata": {
    "scrolled": true
   },
   "outputs": [
    {
     "data": {
      "text/plain": [
       "<Derived Projected CRS: EPSG:3857>\n",
       "Name: WGS 84 / Pseudo-Mercator\n",
       "Axis Info [cartesian]:\n",
       "- X[east]: Easting (metre)\n",
       "- Y[north]: Northing (metre)\n",
       "Area of Use:\n",
       "- name: World between 85.06°S and 85.06°N.\n",
       "- bounds: (-180.0, -85.06, 180.0, 85.06)\n",
       "Coordinate Operation:\n",
       "- name: Popular Visualisation Pseudo-Mercator\n",
       "- method: Popular Visualisation Pseudo Mercator\n",
       "Datum: World Geodetic System 1984 ensemble\n",
       "- Ellipsoid: WGS 84\n",
       "- Prime Meridian: Greenwich"
      ]
     },
     "execution_count": 46,
     "metadata": {},
     "output_type": "execute_result"
    }
   ],
   "source": [
    "shapefile.crs"
   ]
  },
  {
   "cell_type": "markdown",
   "id": "53620d3d",
   "metadata": {},
   "source": [
    "#### Reproject the data\n",
    "Reproject to EPSG 4326"
   ]
  },
  {
   "cell_type": "code",
   "execution_count": 48,
   "id": "4fb594d3",
   "metadata": {},
   "outputs": [
    {
     "data": {
      "text/plain": [
       "<Geographic 2D CRS: EPSG:4326>\n",
       "Name: WGS 84\n",
       "Axis Info [ellipsoidal]:\n",
       "- Lat[north]: Geodetic latitude (degree)\n",
       "- Lon[east]: Geodetic longitude (degree)\n",
       "Area of Use:\n",
       "- name: World.\n",
       "- bounds: (-180.0, -90.0, 180.0, 90.0)\n",
       "Datum: World Geodetic System 1984 ensemble\n",
       "- Ellipsoid: WGS 84\n",
       "- Prime Meridian: Greenwich"
      ]
     },
     "execution_count": 48,
     "metadata": {},
     "output_type": "execute_result"
    }
   ],
   "source": [
    "shapefile_wgs84=shapefile.to_crs(4326)\n",
    "shapefile_wgs84.crs"
   ]
  },
  {
   "cell_type": "markdown",
   "id": "057de803",
   "metadata": {},
   "source": [
    "### Convert geopandas dataframe to a pandas dataframe\n",
    "In order to load a dataframe into Snowflake via the Snowflake Python connector, it needs to be converted from a geopandas dataframe into a pandas dataframe."
   ]
  },
  {
   "cell_type": "code",
   "execution_count": 49,
   "id": "98e0e3ff",
   "metadata": {},
   "outputs": [
    {
     "name": "stdout",
     "output_type": "stream",
     "text": [
      "<class 'pandas.core.frame.DataFrame'>\n",
      "RangeIndex: 80 entries, 0 to 79\n",
      "Data columns (total 5 columns):\n",
      " #   Column      Non-Null Count  Dtype   \n",
      "---  ------      --------------  -----   \n",
      " 0   ID          80 non-null     int64   \n",
      " 1   AREA        80 non-null     float64 \n",
      " 2   DISTRICT    80 non-null     object  \n",
      " 3   POPULATION  80 non-null     int64   \n",
      " 4   geometry    80 non-null     geometry\n",
      "dtypes: float64(1), geometry(1), int64(2), object(1)\n",
      "memory usage: 3.2+ KB\n"
     ]
    }
   ],
   "source": [
    "df = pd.DataFrame(shapefile_wgs84)\n",
    "df.info()"
   ]
  },
  {
   "cell_type": "markdown",
   "id": "834c59e0",
   "metadata": {},
   "source": [
    "### Convert geometry to string\n",
    "Currently pandas geometry data type needs to be converted to a string. Also, I am upcasing the geometry column name to get around the invalid identifier error."
   ]
  },
  {
   "cell_type": "code",
   "execution_count": 50,
   "id": "67570f1e",
   "metadata": {},
   "outputs": [],
   "source": [
    "df=df.astype({'geometry':'str'}).rename(columns={'geometry':'POLYGON_COORDINATES'})\n",
    "#df=df.rename(columns={'geometry':'POLYGON_COORDINATES'})"
   ]
  },
  {
   "cell_type": "code",
   "execution_count": 51,
   "id": "4c4f5042",
   "metadata": {},
   "outputs": [
    {
     "name": "stdout",
     "output_type": "stream",
     "text": [
      "<class 'pandas.core.frame.DataFrame'>\n",
      "RangeIndex: 80 entries, 0 to 79\n",
      "Data columns (total 5 columns):\n",
      " #   Column               Non-Null Count  Dtype  \n",
      "---  ------               --------------  -----  \n",
      " 0   ID                   80 non-null     int64  \n",
      " 1   AREA                 80 non-null     float64\n",
      " 2   DISTRICT             80 non-null     object \n",
      " 3   POPULATION           80 non-null     int64  \n",
      " 4   POLYGON_COORDINATES  80 non-null     object \n",
      "dtypes: float64(1), int64(2), object(2)\n",
      "memory usage: 3.2+ KB\n"
     ]
    }
   ],
   "source": [
    "df.info()"
   ]
  },
  {
   "cell_type": "code",
   "execution_count": 52,
   "id": "9d09c7e3",
   "metadata": {},
   "outputs": [],
   "source": [
    "import snowflake.connector\n",
    "import json\n",
    "#import os\n",
    "#import pandas as pd\n",
    "#import pyarrow\n"
   ]
  },
  {
   "cell_type": "code",
   "execution_count": 53,
   "id": "ee3dc8cf",
   "metadata": {},
   "outputs": [],
   "source": [
    "with open('demo308_auth.json') as f:\n",
    "    data = json.load(f)\n",
    "    username = data['username']\n",
    "    password = data['password']\n",
    "    account = data[\"account\"]"
   ]
  },
  {
   "cell_type": "code",
   "execution_count": 54,
   "id": "a935bd0f",
   "metadata": {},
   "outputs": [],
   "source": [
    "conn = snowflake.connector.connect(\n",
    "    user=username,\n",
    "    password=password,\n",
    "    account=account,\n",
    "    )"
   ]
  },
  {
   "cell_type": "code",
   "execution_count": 55,
   "id": "f3ec3950",
   "metadata": {},
   "outputs": [
    {
     "data": {
      "text/plain": [
       "<snowflake.connector.cursor.SnowflakeCursor at 0x7f8aaf21d640>"
      ]
     },
     "execution_count": 55,
     "metadata": {},
     "output_type": "execute_result"
    }
   ],
   "source": [
    "conn.cursor().execute(\"USE WAREHOUSE ADHOC\")\n",
    "conn.cursor().execute(\"USE DATABASE GEO\")\n",
    "conn.cursor().execute(\"CREATE OR REPLACE SCHEMA GEO_BOUNDARIES\")\n",
    "conn.cursor().execute(\"USE SCHEMA GEO_BOUNDARIES\")"
   ]
  },
  {
   "cell_type": "code",
   "execution_count": 56,
   "id": "b1dee457",
   "metadata": {},
   "outputs": [
    {
     "data": {
      "text/plain": [
       "('Table CA_LEGISLATIVE_DISTRICTS_TMP successfully created.',)"
      ]
     },
     "execution_count": 56,
     "metadata": {},
     "output_type": "execute_result"
    }
   ],
   "source": [
    "conn.cursor().execute(\"CREATE OR REPLACE TEMPORARY TABLE CA_LEGISLATIVE_DISTRICTS_TMP\\\n",
    "                       (ID number, AREA float, DISTRICT varchar, \\\n",
    "                        POPULATION number, POLYGON_COORDINATES varchar)\").fetchone()\n"
   ]
  },
  {
   "cell_type": "code",
   "execution_count": 57,
   "id": "bb1dca70",
   "metadata": {
    "scrolled": true
   },
   "outputs": [
    {
     "name": "stdout",
     "output_type": "stream",
     "text": [
      "True 1 80\n"
     ]
    }
   ],
   "source": [
    "success, nchunks, nrows, _ = write_pandas(conn, df, 'CA_LEGISLATIVE_DISTRICTS_TMP')\n",
    "print(success, nchunks, nrows)"
   ]
  },
  {
   "cell_type": "code",
   "execution_count": 60,
   "id": "dc210567",
   "metadata": {},
   "outputs": [
    {
     "data": {
      "text/plain": [
       "('Table CA_LEGISLATIVE_DISTRICTS successfully created.',)"
      ]
     },
     "execution_count": 60,
     "metadata": {},
     "output_type": "execute_result"
    }
   ],
   "source": [
    "conn.cursor().execute(\"CREATE OR REPLACE TABLE CA_LEGISLATIVE_DISTRICTS \\\n",
    "                       AS SELECT ID, AREA, DISTRICT, POPULATION,\\\n",
    "                       TO_GEOGRAPHY(POLYGON_COORDINATES) as DISTRICT_BOUNDARY \\\n",
    "                       from CA_LEGISLATIVE_DISTRICTS_TMP\").fetchone()"
   ]
  },
  {
   "cell_type": "code",
   "execution_count": 61,
   "id": "f0662df2",
   "metadata": {},
   "outputs": [
    {
     "data": {
      "text/plain": [
       "[('34', 518705, 7267, 14),\n",
       " ('1', 506402, 7122, 14),\n",
       " ('9', 470020, 6296, 13),\n",
       " ('3', 496832, 5567, 11),\n",
       " ('32', 515015, 5083, 10),\n",
       " ('75', 471193, 4843, 10),\n",
       " ('36', 469902, 4579, 10),\n",
       " ('8', 501653, 5098, 10),\n",
       " ('27', 512647, 4690, 9),\n",
       " ('4', 475880, 4396, 9),\n",
       " ('30', 474319, 4369, 9),\n",
       " ('33', 505368, 4181, 8),\n",
       " ('2', 504804, 4223, 8),\n",
       " ('47', 518651, 4201, 8),\n",
       " ('12', 482778, 4023, 8),\n",
       " ('5', 498465, 3591, 7),\n",
       " ('22', 471588, 3235, 7),\n",
       " ('11', 514921, 3806, 7),\n",
       " ('42', 517503, 3420, 7),\n",
       " ('29', 495410, 3409, 7),\n",
       " ('35', 482837, 3032, 6),\n",
       " ('37', 474067, 2784, 6),\n",
       " ('23', 474000, 3057, 6),\n",
       " ('16', 516216, 3098, 6),\n",
       " ('39', 484755, 2471, 5),\n",
       " ('77', 508556, 2709, 5),\n",
       " ('71', 494346, 2504, 5),\n",
       " ('59', 470576, 2135, 5),\n",
       " ('31', 498044, 2487, 5),\n",
       " ('7', 491703, 2363, 5),\n",
       " ('76', 471670, 2437, 5),\n",
       " ('74', 512202, 2536, 5),\n",
       " ('41', 485018, 2417, 5),\n",
       " ('63', 478438, 2558, 5),\n",
       " ('60', 469942, 2424, 5),\n",
       " ('38', 485654, 2374, 5),\n",
       " ('13', 489925, 2458, 5),\n",
       " ('28', 473114, 2457, 5),\n",
       " ('15', 512289, 2522, 5),\n",
       " ('50', 489965, 1957, 4),\n",
       " ('78', 512852, 1997, 4),\n",
       " ('24', 478426, 2032, 4),\n",
       " ('56', 493173, 1829, 4),\n",
       " ('21', 493702, 2016, 4),\n",
       " ('58', 496636, 1969, 4),\n",
       " ('6', 518242, 2230, 4),\n",
       " ('14', 475705, 1691, 4),\n",
       " ('53', 475714, 1719, 4),\n",
       " ('45', 490577, 2170, 4),\n",
       " ('40', 517085, 2272, 4),\n",
       " ('72', 495360, 2096, 4),\n",
       " ('80', 517104, 1692, 3),\n",
       " ('48', 482665, 1354, 3),\n",
       " ('73', 500525, 1683, 3),\n",
       " ('26', 472660, 1378, 3),\n",
       " ('18', 485267, 1339, 3),\n",
       " ('44', 514568, 1369, 3),\n",
       " ('66', 474015, 1501, 3),\n",
       " ('69', 479919, 1341, 3),\n",
       " ('25', 497894, 1487, 3),\n",
       " ('20', 516830, 1771, 3),\n",
       " ('10', 518416, 1790, 3),\n",
       " ('43', 508082, 997, 2),\n",
       " ('49', 474851, 1118, 2),\n",
       " ('65', 503396, 1255, 2),\n",
       " ('64', 512311, 1168, 2),\n",
       " ('68', 485224, 975, 2),\n",
       " ('67', 473294, 1119, 2),\n",
       " ('52', 518060, 868, 2),\n",
       " ('51', 497330, 1061, 2),\n",
       " ('70', 472278, 1026, 2),\n",
       " ('46', 503724, 1248, 2),\n",
       " ('54', 505678, 806, 2),\n",
       " ('17', 518498, 824, 2),\n",
       " ('79', 505901, 1099, 2),\n",
       " ('19', 503871, 954, 2),\n",
       " ('62', 472817, 738, 2),\n",
       " ('61', 491779, 994, 2),\n",
       " ('55', 476444, 782, 2),\n",
       " ('57', 507191, 544, 1)]"
      ]
     },
     "execution_count": 61,
     "metadata": {},
     "output_type": "execute_result"
    }
   ],
   "source": [
    "conn.cursor().execute( \"SELECT LD.DISTRICT, LD.POPULATION, COUNT(*) TOWER_CNT, \\\n",
    "                        ROUND((TOWER_CNT/POPULATION)*1000,0) TOWERS_PER_1000 \\\n",
    "                        from  GEO.TELCO.CELL_TOWERS_US CT, \\\n",
    "                        GEO.GEO_BOUNDARIES.CA_LEGISLATIVE_DISTRICTS LD \\\n",
    "                        Where ST_CONTAINS(LD.DISTRICT_BOUNDARY, CT.GEO) \\\n",
    "                        GROUP BY 1,2 \\\n",
    "                        ORDER BY 4 DESC;\").fetchall()"
   ]
  }
 ],
 "metadata": {
  "kernelspec": {
   "display_name": "Python [conda env:root] *",
   "language": "python",
   "name": "conda-root-py"
  },
  "language_info": {
   "codemirror_mode": {
    "name": "ipython",
    "version": 3
   },
   "file_extension": ".py",
   "mimetype": "text/x-python",
   "name": "python",
   "nbconvert_exporter": "python",
   "pygments_lexer": "ipython3",
   "version": "3.8.8"
  }
 },
 "nbformat": 4,
 "nbformat_minor": 5
}
